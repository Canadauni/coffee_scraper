{
 "cells": [
  {
   "cell_type": "code",
   "execution_count": 1,
   "metadata": {},
   "outputs": [],
   "source": [
    "import requests\n",
    "r = requests.get('https://matchstickyvr.com/collections/coffee/products.json')\n",
    "r_json = r.json()\n",
    "coffees = r_json['products']"
   ]
  },
  {
   "cell_type": "code",
   "execution_count": 64,
   "metadata": {},
   "outputs": [
    {
     "name": "stdout",
     "output_type": "stream",
     "text": [
      "subscription\n",
      "subscription\n",
      "subscription\n",
      "Barril 2\n",
      "dict_values(['Jimenez Family', 'Washed', 'Mogotón Mountain', 'Ocotal', '1,400 - 1,600 masl', 'Caravela', 'Apple Tart, Lime, Macadamia Nut'])\n",
      "Brisas\n",
      "dict_values(['', '', '', '', '', '', ''])\n",
      "Guayabales\n",
      "dict_values(['', '', '', '', '', '', '', ''])\n",
      "Peña\n",
      "dict_values(['', '', '', '', '', '', '', ''])\n",
      "Munyinya\n",
      "dict_values(['', '', '', '', '', '', '', ''])\n",
      "Deri Kochoha\n",
      "dict_values(['', '', '', '', '', '', '', ''])\n",
      "subscription\n",
      "subscription\n",
      "subscription\n"
     ]
    }
   ],
   "source": [
    "for coffee in coffees:\n",
    "    if coffee['product_type'] == '3 x 3/4 lb bags' or coffee['title'] in ['Catalogue','The Bulldog','Decaf']:\n",
    "        print('subscription')\n",
    "        continue\n",
    "    else:\n",
    "        print(coffee['title'])\n",
    "        desc_html = BeautifulSoup(coffee['body_html'], 'html.parser')\n",
    "        desc_dict = dict()\n",
    "        for item in desc_html.find_all('strong'):\n",
    "            attribs = item.get_text().split(':')\n",
    "#             print(attribs)\n",
    "            desc_dict[attribs[0].strip()] = attribs[1].strip()\n",
    "        print(desc_dict.values())"
   ]
  },
  {
   "cell_type": "code",
   "execution_count": 84,
   "metadata": {},
   "outputs": [
    {
     "data": {
      "text/plain": [
       "'<meta charset=\"utf-8\"><meta charset=\"utf-8\"><meta charset=\"utf-8\"><meta charset=\"utf-8\"><meta charset=\"utf-8\"><meta charset=\"utf-8\"><meta charset=\"utf-8\"><meta charset=\"utf-8\"><meta charset=\"utf-8\">\\n<p><strong>Producer:\\xa0</strong>Jimenez Family<span class=\"s1\"><br></span><strong>Process:\\xa0</strong><span>Washed</span><br><strong>Location:\\xa0</strong><span>Mogotón Mountain</span><br><strong>Region:\\xa0</strong><span>Ocotal</span><br><strong>Elevation:\\xa0</strong><span>1,400 - 1,600 masl</span><br><strong>Importer:\\xa0</strong>Caravela</p>\\n<div class=\"product-info\">\\n<p class=\"p1\"><span>This is the fourth year in a row that we have bought coffee from the Jimenez family. This past February, we visited them again at their farm. We broke bread, hiked the mountain, and discussed the challenges of the coffee business. This coffee is among the finest that we have tasted from Nicaragua. When you drink this coffee, you are directly supporting the smallholder farmers who grew it. We hope you enjoy.</span></p>\\n</div>\\n<p><strong>Tasting Notes:<br></strong>Almond, Cherry,\\xa0Apricot</p>\\n<div class=\"product-info\"></div>\\n<div class=\"product-info\"></div>'"
      ]
     },
     "execution_count": 84,
     "metadata": {},
     "output_type": "execute_result"
    }
   ],
   "source": [
    "sample_html = coffees[4]['body_html']\n",
    "sample_html"
   ]
  },
  {
   "cell_type": "code",
   "execution_count": 6,
   "metadata": {},
   "outputs": [],
   "source": [
    "from bs4 import BeautifulSoup"
   ]
  },
  {
   "cell_type": "code",
   "execution_count": 85,
   "metadata": {},
   "outputs": [
    {
     "name": "stdout",
     "output_type": "stream",
     "text": [
      "<meta charset=\"utf-8\"/>\n",
      "<meta charset=\"utf-8\"/>\n",
      "<meta charset=\"utf-8\"/>\n",
      "<meta charset=\"utf-8\"/>\n",
      "<meta charset=\"utf-8\"/>\n",
      "<meta charset=\"utf-8\"/>\n",
      "<meta charset=\"utf-8\"/>\n",
      "<meta charset=\"utf-8\"/>\n",
      "<meta charset=\"utf-8\"/>\n",
      "<p>\n",
      " <strong>\n",
      "  Producer:\n",
      " </strong>\n",
      " Jimenez Family\n",
      " <span class=\"s1\">\n",
      "  <br/>\n",
      " </span>\n",
      " <strong>\n",
      "  Process:\n",
      " </strong>\n",
      " <span>\n",
      "  Washed\n",
      " </span>\n",
      " <br/>\n",
      " <strong>\n",
      "  Location:\n",
      " </strong>\n",
      " <span>\n",
      "  Mogotón Mountain\n",
      " </span>\n",
      " <br/>\n",
      " <strong>\n",
      "  Region:\n",
      " </strong>\n",
      " <span>\n",
      "  Ocotal\n",
      " </span>\n",
      " <br/>\n",
      " <strong>\n",
      "  Elevation:\n",
      " </strong>\n",
      " <span>\n",
      "  1,400 - 1,600 masl\n",
      " </span>\n",
      " <br/>\n",
      " <strong>\n",
      "  Importer:\n",
      " </strong>\n",
      " Caravela\n",
      "</p>\n",
      "<div class=\"product-info\">\n",
      " <p class=\"p1\">\n",
      "  <span>\n",
      "   This is the fourth year in a row that we have bought coffee from the Jimenez family. This past February, we visited them again at their farm. We broke bread, hiked the mountain, and discussed the challenges of the coffee business. This coffee is among the finest that we have tasted from Nicaragua. When you drink this coffee, you are directly supporting the smallholder farmers who grew it. We hope you enjoy.\n",
      "  </span>\n",
      " </p>\n",
      "</div>\n",
      "<p>\n",
      " <strong>\n",
      "  Tasting Notes:\n",
      "  <br/>\n",
      " </strong>\n",
      " Almond, Cherry, Apricot\n",
      "</p>\n",
      "<div class=\"product-info\">\n",
      "</div>\n",
      "<div class=\"product-info\">\n",
      "</div>\n"
     ]
    }
   ],
   "source": [
    "sample = BeautifulSoup(sample_html, 'html.parser')\n",
    "print(sample.prettify())"
   ]
  },
  {
   "cell_type": "code",
   "execution_count": 93,
   "metadata": {},
   "outputs": [
    {
     "name": "stdout",
     "output_type": "stream",
     "text": [
      "{'Producer': 'Jimenez Family', 'Process': 'Washed', 'Location': 'Mogotón Mountain', 'Region': 'Ocotal', 'Elevation': '1,400 - 1,600 masl', 'Importer': 'Caravela', 'Tasting Notes': 'Almond, Cherry, Apricot'}\n"
     ]
    }
   ],
   "source": [
    "test_dict = dict()\n",
    "\n",
    "items = sample.find_all('p')\n",
    "\n",
    "for i in range(len(items)):\n",
    "    if i == 1:\n",
    "        continue\n",
    "    attribs = items[i].find_all('strong')\n",
    "    for attrib in attribs:\n",
    "        if attrib.nextSibling == None or attrib.nextSibling.string == None:\n",
    "            pairs = attrib.get_text().split(\":\")\n",
    "            test_dict[pairs[0].strip()] = pairs[1].strip()\n",
    "        else:\n",
    "            test_dict[attrib.get_text().strip().replace(':','')] = attrib.nextSibling.string.replace('\\xa0', ' ')\n",
    "\n",
    "print(test_dict)"
   ]
  },
  {
   "cell_type": "code",
   "execution_count": 9,
   "metadata": {},
   "outputs": [],
   "source": [
    "from peewee import *"
   ]
  },
  {
   "cell_type": "code",
   "execution_count": 25,
   "metadata": {},
   "outputs": [],
   "source": [
    "db = SqliteDatabase(\":memory:\")\n",
    "class BaseModel(Model):\n",
    "    class Meta:\n",
    "        database = db\n",
    "\n",
    "class Roaster(BaseModel):\n",
    "    name = CharField()\n",
    "    country = CharField()\n",
    "    region = CharField()\n",
    "    city = CharField()\n",
    "class Coffee(BaseModel):\n",
    "    coffee = CharField()\n",
    "    price = IntegerField()\n",
    "    country = CharField()\n",
    "    region = CharField()\n",
    "    process = CharField()\n",
    "    tasting_notes = TextField()\n",
    "    roaster = ForeignKeyField(Roaster, backref='coffees')"
   ]
  },
  {
   "cell_type": "code",
   "execution_count": 16,
   "metadata": {},
   "outputs": [],
   "source": [
    "def create_tables():\n",
    "    with db:\n",
    "        db.create_tables([Roaster,Coffee])\n",
    "create_tables()"
   ]
  },
  {
   "cell_type": "code",
   "execution_count": 26,
   "metadata": {},
   "outputs": [],
   "source": [
    "matchstick = Roaster(name='Matchstick', country='Canada', region='British Columbia', city=\"Vancouver\")"
   ]
  },
  {
   "cell_type": "code",
   "execution_count": 27,
   "metadata": {},
   "outputs": [
    {
     "data": {
      "text/plain": [
       "1"
      ]
     },
     "execution_count": 27,
     "metadata": {},
     "output_type": "execute_result"
    }
   ],
   "source": [
    "db.create_tables([Roaster,Coffee])\n",
    "matchstick.save()"
   ]
  },
  {
   "cell_type": "code",
   "execution_count": 32,
   "metadata": {},
   "outputs": [],
   "source": [
    "query = Roaster.get(Roaster.name == 'Matchstick')"
   ]
  },
  {
   "cell_type": "code",
   "execution_count": 33,
   "metadata": {},
   "outputs": [
    {
     "data": {
      "text/plain": [
       "'Matchstick'"
      ]
     },
     "execution_count": 33,
     "metadata": {},
     "output_type": "execute_result"
    }
   ],
   "source": [
    "query.name"
   ]
  },
  {
   "cell_type": "code",
   "execution_count": 37,
   "metadata": {},
   "outputs": [
    {
     "data": {
      "text/plain": [
       "2250"
      ]
     },
     "execution_count": 37,
     "metadata": {},
     "output_type": "execute_result"
    }
   ],
   "source": [
    "def cash_int(price):\n",
    "    price_float = float(price)\n",
    "    return int(price_float * 100)\n",
    "cash_int(coffees[3]['variants'][0]['price'])"
   ]
  },
  {
   "cell_type": "code",
   "execution_count": 38,
   "metadata": {},
   "outputs": [],
   "source": [
    "barril = Coffee(coffee=coffees[3]['title'],\n",
    "                price=cash_int(coffees[3]['variants'][0]['price']),\n",
    "                country=coffees[3]['product_type'],\n",
    "                region=test_dict['Region'],\n",
    "                process=test_dict['Process'],\n",
    "                tasting_notes=test_dict['Tasting Notes'],\n",
    "                roaster=query)"
   ]
  },
  {
   "cell_type": "code",
   "execution_count": 39,
   "metadata": {},
   "outputs": [
    {
     "data": {
      "text/plain": [
       "1"
      ]
     },
     "execution_count": 39,
     "metadata": {},
     "output_type": "execute_result"
    }
   ],
   "source": [
    "barril.save()"
   ]
  },
  {
   "cell_type": "code",
   "execution_count": null,
   "metadata": {},
   "outputs": [],
   "source": []
  }
 ],
 "metadata": {
  "kernelspec": {
   "display_name": "Python 3",
   "language": "python",
   "name": "python3"
  },
  "language_info": {
   "codemirror_mode": {
    "name": "ipython",
    "version": 3
   },
   "file_extension": ".py",
   "mimetype": "text/x-python",
   "name": "python",
   "nbconvert_exporter": "python",
   "pygments_lexer": "ipython3",
   "version": "3.6.6"
  }
 },
 "nbformat": 4,
 "nbformat_minor": 2
}
